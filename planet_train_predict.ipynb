{
 "cells": [
  {
   "cell_type": "code",
   "execution_count": 1,
   "metadata": {
    "collapsed": false
   },
   "outputs": [
    {
     "name": "stderr",
     "output_type": "stream",
     "text": [
      "/home/ubuntu/anaconda3/envs/deepenv/lib/python3.5/site-packages/sklearn/cross_validation.py:44: DeprecationWarning: This module was deprecated in version 0.18 in favor of the model_selection module into which all the refactored classes and functions are moved. Also note that the interface of the new CV iterators are different from that of this module. This module will be removed in 0.20.\n",
      "  \"This module will be removed in 0.20.\", DeprecationWarning)\n",
      "Using TensorFlow backend.\n",
      "/home/ubuntu/anaconda3/envs/deepenv/lib/python3.5/site-packages/IPython/html.py:14: ShimWarning: The `IPython.html` package has been deprecated since IPython 4.0. You should import from `notebook` instead. `IPython.html.widgets` has moved to `ipywidgets`.\n",
      "  \"`IPython.html.widgets` has moved to `ipywidgets`.\", ShimWarning)\n"
     ]
    }
   ],
   "source": [
    "from imp import reload\n",
    "import convnets; reload(convnets)\n",
    "from convnets import *\n",
    "\n",
    "from keras.wrappers.scikit_learn import KerasClassifier\n",
    "from keras.backend.tensorflow_backend import set_session\n",
    "\n",
    "from sklearn.metrics import label_ranking_average_precision_score, accuracy_score, f1_score, fbeta_score\n",
    "\n",
    "config = tf.ConfigProto()\n",
    "config.gpu_options.per_process_gpu_memory_fraction = 0.9\n",
    "set_session(tf.Session(config=config))\n",
    "\n",
    "keras.backend.image_dim_ordering = 'tf'"
   ]
  },
  {
   "cell_type": "markdown",
   "metadata": {},
   "source": [
    "# Planet: satellite image competition\n",
    "In this notebook, transfer learning is used with vgg16. The top layers following the last convolutional layer are retrained. Data Augmentation is applied on train images. The performance metrics is the f2-score.\n",
    "\n",
    "## Preparing data\n",
    "- resizing all umages to 224x224 (i.e. VGG16 input shape)\n",
    "- convert them all to mode RGB\n",
    "- split the data into train and validation (using stratified k-folds)\n",
    "\n",
    "### Resizing and reshaping images"
   ]
  },
  {
   "cell_type": "code",
   "execution_count": 2,
   "metadata": {
    "collapsed": false
   },
   "outputs": [],
   "source": [
    "path = './train/images/'\n",
    "listdir = os.listdir(path)"
   ]
  },
  {
   "cell_type": "code",
   "execution_count": 3,
   "metadata": {
    "collapsed": false
   },
   "outputs": [
    {
     "name": "stdout",
     "output_type": "stream",
     "text": [
      "CPU times: user 1min 55s, sys: 2.74 s, total: 1min 58s\n",
      "Wall time: 1min 57s\n"
     ]
    }
   ],
   "source": [
    "%%time\n",
    "tmp = dict()\n",
    "for f in listdir:\n",
    "    id_ = f.split('.jpg')[0]\n",
    "    img = imread(path + f)\n",
    "    img = imresize(img,(224,224,3))\n",
    "    tmp[id_] = dict(image=img)"
   ]
  },
  {
   "cell_type": "markdown",
   "metadata": {},
   "source": [
    "### Stratified K-folds split"
   ]
  },
  {
   "cell_type": "code",
   "execution_count": 4,
   "metadata": {
    "collapsed": true
   },
   "outputs": [],
   "source": [
    "dt = pd.read_csv('train_v2.csv')"
   ]
  },
  {
   "cell_type": "code",
   "execution_count": 5,
   "metadata": {
    "collapsed": true
   },
   "outputs": [],
   "source": [
    "labels = dt.tags.apply(lambda l: l.split(' ')).values"
   ]
  },
  {
   "cell_type": "code",
   "execution_count": 6,
   "metadata": {
    "collapsed": false
   },
   "outputs": [
    {
     "data": {
      "text/plain": [
       "(40479, 19)"
      ]
     },
     "execution_count": 6,
     "metadata": {},
     "output_type": "execute_result"
    }
   ],
   "source": [
    "from sklearn.preprocessing import MultiLabelBinarizer\n",
    "mlb = MultiLabelBinarizer()\n",
    "\n",
    "df = pd.DataFrame(mlb.fit_transform(labels),columns=[mlb.classes_])\n",
    "df['id_'] = dt.image_name.values ; df['labels'] = labels\n",
    "df.shape"
   ]
  },
  {
   "cell_type": "code",
   "execution_count": 7,
   "metadata": {
    "collapsed": false
   },
   "outputs": [
    {
     "data": {
      "text/plain": [
       "array(['agriculture', 'artisinal_mine', 'bare_ground', 'blooming',\n",
       "       'blow_down', 'clear', 'cloudy', 'conventional_mine', 'cultivation',\n",
       "       'habitation', 'haze', 'partly_cloudy', 'primary', 'road',\n",
       "       'selective_logging', 'slash_burn', 'water'], dtype=object)"
      ]
     },
     "execution_count": 7,
     "metadata": {},
     "output_type": "execute_result"
    }
   ],
   "source": [
    "mlb.classes_"
   ]
  },
  {
   "cell_type": "code",
   "execution_count": 8,
   "metadata": {
    "collapsed": false
   },
   "outputs": [
    {
     "data": {
      "text/plain": [
       "((40479,), (40479, 17), (40479,))"
      ]
     },
     "execution_count": 8,
     "metadata": {},
     "output_type": "execute_result"
    }
   ],
   "source": [
    "from sklearn import preprocessing\n",
    "import random\n",
    "\n",
    "le = preprocessing.LabelEncoder()\n",
    "\n",
    "X = df.id_.as_matrix()\n",
    "y = df[mlb.classes_].as_matrix()\n",
    "y_encoded = le.fit_transform(df['labels'].apply(lambda i: random.choice(i)))\n",
    "\n",
    "X.shape, y.shape, y_encoded.shape"
   ]
  },
  {
   "cell_type": "code",
   "execution_count": 9,
   "metadata": {
    "collapsed": false
   },
   "outputs": [],
   "source": [
    "from sklearn.model_selection import StratifiedShuffleSplit\n",
    "skf = StratifiedShuffleSplit(n_splits=1, random_state=42)"
   ]
  },
  {
   "cell_type": "code",
   "execution_count": 10,
   "metadata": {
    "collapsed": false
   },
   "outputs": [],
   "source": [
    "for train_index, test_index in skf.split(X=X ,y=y_encoded): \n",
    "    \n",
    "    X_train = np.array([tmp.get(k)['image'] for k in X[train_index]])\n",
    "    X_test = np.array([tmp.get(k)['image'] for k in X[test_index]])\n",
    "    \n",
    "    y_train = y[train_index]\n",
    "    y_test = y[test_index]"
   ]
  },
  {
   "cell_type": "markdown",
   "metadata": {},
   "source": [
    "### Data augmentation"
   ]
  },
  {
   "cell_type": "code",
   "execution_count": 15,
   "metadata": {
    "collapsed": true
   },
   "outputs": [],
   "source": [
    "gen=image.ImageDataGenerator(zoom_range=0.1,\n",
    "                             horizontal_flip=True,\n",
    "                             vertical_flip=True,\n",
    "                             width_shift_range=0.05,\n",
    "                             height_shift_range=0.05)\n",
    "shuffle=True ; batch_size=64 ; class_mode='categorical'; target_size=(224,224); epochs = 20"
   ]
  },
  {
   "cell_type": "markdown",
   "metadata": {},
   "source": [
    "## Training model"
   ]
  },
  {
   "cell_type": "code",
   "execution_count": 16,
   "metadata": {
    "collapsed": false
   },
   "outputs": [
    {
     "name": "stdout",
     "output_type": "stream",
     "text": [
      "Epoch 1/20\n",
      "570/569 [==============================] - 644s - loss: 0.1731 - val_loss: 0.1194\n",
      "Epoch 2/20\n",
      "570/569 [==============================] - 639s - loss: 0.1352 - val_loss: 0.1133\n",
      "Epoch 3/20\n",
      "570/569 [==============================] - 644s - loss: 0.1303 - val_loss: 0.1120\n",
      "Epoch 4/20\n",
      "570/569 [==============================] - 637s - loss: 0.1278 - val_loss: 0.1096\n",
      "Epoch 5/20\n",
      "570/569 [==============================] - 678s - loss: 0.1266 - val_loss: 0.1083\n",
      "Epoch 6/20\n",
      "570/569 [==============================] - 733s - loss: 0.1246 - val_loss: 0.1111\n",
      "Epoch 7/20\n",
      "570/569 [==============================] - 737s - loss: 0.1233 - val_loss: 0.1071\n",
      "Epoch 8/20\n",
      "570/569 [==============================] - 746s - loss: 0.1226 - val_loss: 0.1069\n",
      "Epoch 9/20\n",
      "570/569 [==============================] - 646s - loss: 0.1213 - val_loss: 0.1051\n",
      "Epoch 10/20\n",
      "570/569 [==============================] - 729s - loss: 0.1213 - val_loss: 0.1056\n",
      "Epoch 11/20\n",
      "570/569 [==============================] - 726s - loss: 0.1201 - val_loss: 0.1064\n",
      "Epoch 12/20\n",
      "570/569 [==============================] - 754s - loss: 0.1195 - val_loss: 0.1055\n",
      "Epoch 13/20\n",
      "570/569 [==============================] - 734s - loss: 0.1187 - val_loss: 0.1036\n",
      "Epoch 14/20\n",
      "570/569 [==============================] - 749s - loss: 0.1184 - val_loss: 0.1042\n",
      "Epoch 15/20\n",
      "570/569 [==============================] - 771s - loss: 0.1180 - val_loss: 0.1045\n",
      "Epoch 16/20\n",
      "570/569 [==============================] - 703s - loss: 0.1172 - val_loss: 0.1038\n",
      "Epoch 17/20\n",
      "570/569 [==============================] - 878s - loss: 0.1170 - val_loss: 0.1065\n",
      "Epoch 18/20\n",
      "570/569 [==============================] - 2185s - loss: 0.1169 - val_loss: 0.1039\n",
      "Epoch 19/20\n",
      "570/569 [==============================] - 2323s - loss: 0.1154 - val_loss: 0.1034\n",
      "Epoch 20/20\n",
      "570/569 [==============================] - 2334s - loss: 0.1152 - val_loss: 0.1055\n"
     ]
    },
    {
     "data": {
      "text/plain": [
       "<keras.callbacks.History at 0x7f30660767f0>"
      ]
     },
     "execution_count": 16,
     "metadata": {},
     "output_type": "execute_result"
    }
   ],
   "source": [
    "model = top_model_vgg_multi(n_classes=17)\n",
    "model.fit_generator(gen.flow(X_train, y_train, batch_size=batch_size),\n",
    "                    steps_per_epoch=len(X_train) / batch_size, epochs=epochs,validation_data=(X_test,y_test))"
   ]
  },
  {
   "cell_type": "code",
   "execution_count": 13,
   "metadata": {
    "collapsed": true
   },
   "outputs": [],
   "source": [
    "model = top_model_vgg_multi(n_classes=17)\n",
    "model.save_weights('vgg_sat.h5')\n",
    "#model.load_weights('vgg_sat.h5')"
   ]
  },
  {
   "cell_type": "markdown",
   "metadata": {},
   "source": [
    "### Validation\n",
    "##### without finetuning the probability threshold (default = 0.5)"
   ]
  },
  {
   "cell_type": "code",
   "execution_count": 12,
   "metadata": {
    "collapsed": false
   },
   "outputs": [
    {
     "name": "stdout",
     "output_type": "stream",
     "text": [
      "4048/4048 [==============================] - 76s    \n",
      "**************************************************************************\n",
      "accuracy: 0.619812252964 -- LRAP 0.958481061981 -- f1 score: 0.893545399758 -- fbeta: 0.883856410629\n",
      "**************************************************************************\n"
     ]
    },
    {
     "name": "stderr",
     "output_type": "stream",
     "text": [
      "/home/ubuntu/anaconda3/envs/deepenv/lib/python3.5/site-packages/sklearn/metrics/classification.py:1113: UndefinedMetricWarning: F-score is ill-defined and being set to 0.0 in samples with no predicted labels.\n",
      "  'precision', 'predicted', average, warn_for)\n"
     ]
    }
   ],
   "source": [
    "tmp = dict()\n",
    "probas = model.predict(X_test,verbose=1)\n",
    "classes = np.round(probas).astype('int')\n",
    "\n",
    "tmp['precision'] = label_ranking_average_precision_score(y_test,probas)\n",
    "tmp['acc'] = accuracy_score(y_test,classes)\n",
    "tmp['f1'] = f1_score(y_test, classes,average='samples')\n",
    "tmp['fbeta'] = fbeta_score(y_test,classes,average='samples',beta=2)\n",
    "\n",
    "print('**************************************************************************')\n",
    "print('accuracy:', tmp['acc'], '-- LRAP', tmp['precision'], '-- f1 score:', tmp['f1'], '-- fbeta:',tmp['fbeta'])\n",
    "print('**************************************************************************')"
   ]
  },
  {
   "cell_type": "markdown",
   "metadata": {},
   "source": [
    "##### Finetuning the probability threshold"
   ]
  },
  {
   "cell_type": "code",
   "execution_count": 30,
   "metadata": {
    "collapsed": false
   },
   "outputs": [
    {
     "name": "stdout",
     "output_type": "stream",
     "text": [
      "4048/4048 [==============================] - 71s    \n"
     ]
    }
   ],
   "source": [
    "probas = model.predict(X_test,verbose = 1)"
   ]
  },
  {
   "cell_type": "code",
   "execution_count": 31,
   "metadata": {
    "collapsed": false
   },
   "outputs": [
    {
     "name": "stdout",
     "output_type": "stream",
     "text": [
      "**************************************************************************\n",
      "accuracy: 0.467144268775 -- LRAP 0.958465254314 -- f1 score: 0.859230044494 -- fbeta: 0.909311643599\n",
      "**************************************************************************\n",
      "**************************************************************************\n",
      "accuracy: 0.511363636364 -- LRAP 0.958465254314 -- f1 score: 0.87690237957 -- fbeta: 0.912163996\n",
      "**************************************************************************\n",
      "**************************************************************************\n",
      "accuracy: 0.545701581028 -- LRAP 0.958465254314 -- f1 score: 0.88707295943 -- fbeta: 0.911067484733\n",
      "**************************************************************************\n",
      "**************************************************************************\n",
      "accuracy: 0.604249011858 -- LRAP 0.958465254314 -- f1 score: 0.89802270221 -- fbeta: 0.905581688851\n",
      "**************************************************************************\n",
      "**************************************************************************\n",
      "accuracy: 0.630928853755 -- LRAP 0.958465254314 -- f1 score: 0.895245756659 -- fbeta: 0.884830743724\n",
      "**************************************************************************\n"
     ]
    },
    {
     "name": "stderr",
     "output_type": "stream",
     "text": [
      "/home/ubuntu/anaconda3/envs/deepenv/lib/python3.5/site-packages/sklearn/metrics/classification.py:1113: UndefinedMetricWarning: F-score is ill-defined and being set to 0.0 in samples with no predicted labels.\n",
      "  'precision', 'predicted', average, warn_for)\n"
     ]
    }
   ],
   "source": [
    "list_scores = []\n",
    "\n",
    "for th in [0.15,0.2,0.25,0.35,0.5]:\n",
    "    tmp = dict()\n",
    "    classes = probas\n",
    "    for idx, e in enumerate(classes):\n",
    "        classes[idx] = [0 if pr < th else 1 for pr in e]\n",
    "        classes = classes.astype(int)\n",
    "        \n",
    "    tmp['precision'] = label_ranking_average_precision_score(y_test,probas)\n",
    "    tmp['acc'] = accuracy_score(y_test,classes)\n",
    "    tmp['f1'] = f1_score(y_test, classes,average='samples')\n",
    "    tmp['fbeta'] = fbeta_score(y_test,classes,average='samples',beta=2)\n",
    "\n",
    "    print('**************************************************************************')\n",
    "    print('accuracy:', tmp['acc'], '-- LRAP', tmp['precision'], '-- f1 score:', tmp['f1'], '-- fbeta:',tmp['fbeta'])\n",
    "    print('**************************************************************************')\n",
    "    list_scores.append(tmp)"
   ]
  },
  {
   "cell_type": "markdown",
   "metadata": {},
   "source": [
    "## Predicting\n",
    "### test set 1"
   ]
  },
  {
   "cell_type": "code",
   "execution_count": 32,
   "metadata": {
    "collapsed": false
   },
   "outputs": [],
   "source": [
    "dtest = pd.read_csv('submit.csv')\n",
    "test = dtest.image_name[:40669].values\n",
    "test_add = dtest.image_name[40669:].values"
   ]
  },
  {
   "cell_type": "code",
   "execution_count": 33,
   "metadata": {
    "collapsed": false
   },
   "outputs": [
    {
     "name": "stdout",
     "output_type": "stream",
     "text": [
      "CPU times: user 1min 57s, sys: 184 ms, total: 1min 57s\n",
      "Wall time: 1min 56s\n"
     ]
    }
   ],
   "source": [
    "%%time\n",
    "tmp = dict()\n",
    "path = './test/images/'\n",
    "for f in test:\n",
    "    img = imread(path + f + '.jpg',mode='RGB')\n",
    "    img = imresize(img,(224,224,3))\n",
    "    tmp[f] = dict(image=img)"
   ]
  },
  {
   "cell_type": "code",
   "execution_count": 34,
   "metadata": {
    "collapsed": false
   },
   "outputs": [],
   "source": [
    "X_sub = np.array([tmp.get(k)['image'] for k in test])"
   ]
  },
  {
   "cell_type": "code",
   "execution_count": 35,
   "metadata": {
    "collapsed": false
   },
   "outputs": [
    {
     "name": "stdout",
     "output_type": "stream",
     "text": [
      "40669/40669 [==============================] - 716s   \n"
     ]
    }
   ],
   "source": [
    "probas = model.predict(X_sub,verbose=1)\n",
    "preds = probas\n",
    "th=0.2\n",
    "for idx, e in enumerate(preds):\n",
    "    preds[idx] = [0 if pr < th else 1 for pr in e]\n",
    "    preds = preds.astype(int)\n",
    "preds = [list(i) for i in mlb.inverse_transform(preds)]\n",
    "preds = [' '.join(map(str, i)) for i in preds]"
   ]
  },
  {
   "cell_type": "code",
   "execution_count": 36,
   "metadata": {
    "collapsed": false
   },
   "outputs": [
    {
     "data": {
      "text/plain": [
       "40669"
      ]
     },
     "execution_count": 36,
     "metadata": {},
     "output_type": "execute_result"
    }
   ],
   "source": [
    "len(preds)"
   ]
  },
  {
   "cell_type": "markdown",
   "metadata": {},
   "source": [
    "### test set 2"
   ]
  },
  {
   "cell_type": "code",
   "execution_count": 38,
   "metadata": {
    "collapsed": false
   },
   "outputs": [
    {
     "name": "stdout",
     "output_type": "stream",
     "text": [
      "CPU times: user 59.1 s, sys: 1.33 s, total: 1min\n",
      "Wall time: 1min\n"
     ]
    }
   ],
   "source": [
    "%%time\n",
    "tmp_add = dict()\n",
    "path = './test_add/images_add/'\n",
    "for f in test_add:\n",
    "    img = imread(path + f + '.jpg',mode='RGB')\n",
    "    img = imresize(img,(224,224,3))\n",
    "    tmp_add[f] = dict(image=img)"
   ]
  },
  {
   "cell_type": "code",
   "execution_count": 39,
   "metadata": {
    "collapsed": true
   },
   "outputs": [],
   "source": [
    "X_sub_add = np.array([tmp_add.get(k)['image'] for k in test_add])"
   ]
  },
  {
   "cell_type": "code",
   "execution_count": null,
   "metadata": {
    "collapsed": false
   },
   "outputs": [
    {
     "name": "stdout",
     "output_type": "stream",
     "text": [
      " 4960/20522 [======>.......................] - ETA: 274s"
     ]
    }
   ],
   "source": [
    "probas_add = model.predict(X_sub_add,verbose=1)\n",
    "preds_add = probas_add\n",
    "th=0.2\n",
    "for idx, e in enumerate(preds_add):\n",
    "    preds_add[idx] = [0 if pr < th else 1 for pr in e]\n",
    "    preds_add = preds_add.astype(int)\n",
    "preds_add = [list(i) for i in mlb.inverse_transform(preds_add)]\n",
    "preds_add = [' '.join(map(str, i)) for i in preds_add]"
   ]
  },
  {
   "cell_type": "code",
   "execution_count": 43,
   "metadata": {
    "collapsed": false
   },
   "outputs": [
    {
     "data": {
      "text/plain": [
       "20522"
      ]
     },
     "execution_count": 43,
     "metadata": {},
     "output_type": "execute_result"
    }
   ],
   "source": [
    "len(preds_add)"
   ]
  },
  {
   "cell_type": "markdown",
   "metadata": {},
   "source": [
    "### merging predictions"
   ]
  },
  {
   "cell_type": "code",
   "execution_count": 45,
   "metadata": {
    "collapsed": false
   },
   "outputs": [],
   "source": [
    "merged_preds = preds + preds_add\n",
    "merged_probas = [i for i in probas] + [j for j in probas_add]\n",
    "to_submit = pd.DataFrame({'image_name': dtest.image_name.values,\n",
    "                          'tags':merged_preds})\n",
    "np.save('vgg_probas_v2',merged_probas)"
   ]
  },
  {
   "cell_type": "code",
   "execution_count": 46,
   "metadata": {
    "collapsed": false
   },
   "outputs": [],
   "source": [
    "to_submit.to_csv('submission_v2.csv',index=False)"
   ]
  }
 ],
 "metadata": {
  "anaconda-cloud": {},
  "kernelspec": {
   "display_name": "Python [conda env:deepenv]",
   "language": "python",
   "name": "conda-env-deepenv-py"
  },
  "language_info": {
   "codemirror_mode": {
    "name": "ipython",
    "version": 3
   },
   "file_extension": ".py",
   "mimetype": "text/x-python",
   "name": "python",
   "nbconvert_exporter": "python",
   "pygments_lexer": "ipython3",
   "version": "3.5.3"
  }
 },
 "nbformat": 4,
 "nbformat_minor": 1
}
